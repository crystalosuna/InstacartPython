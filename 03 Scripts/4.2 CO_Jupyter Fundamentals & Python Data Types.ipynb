{
 "cells": [
  {
   "cell_type": "markdown",
   "id": "d8067891",
   "metadata": {},
   "source": [
    "# Importing Libraries"
   ]
  },
  {
   "cell_type": "code",
   "execution_count": 1,
   "id": "321e2d94",
   "metadata": {},
   "outputs": [],
   "source": [
    "# Importing libraries\n",
    "import pandas as pd\n",
    "import numpy as np\n",
    "import os"
   ]
  },
  {
   "cell_type": "markdown",
   "id": "d9874cd1",
   "metadata": {},
   "source": [
    "Python Data Types"
   ]
  },
  {
   "cell_type": "code",
   "execution_count": 2,
   "id": "238886f0",
   "metadata": {},
   "outputs": [],
   "source": [
    "x = 10"
   ]
  },
  {
   "cell_type": "code",
   "execution_count": 3,
   "id": "3ec7cb25",
   "metadata": {},
   "outputs": [
    {
     "data": {
      "text/plain": [
       "10"
      ]
     },
     "execution_count": 3,
     "metadata": {},
     "output_type": "execute_result"
    }
   ],
   "source": [
    "x"
   ]
  },
  {
   "cell_type": "code",
   "execution_count": 4,
   "id": "766c7603",
   "metadata": {},
   "outputs": [
    {
     "data": {
      "text/plain": [
       "100"
      ]
     },
     "execution_count": 4,
     "metadata": {},
     "output_type": "execute_result"
    }
   ],
   "source": [
    "x * 10"
   ]
  },
  {
   "cell_type": "code",
   "execution_count": 5,
   "id": "7e7d4d1e",
   "metadata": {},
   "outputs": [
    {
     "data": {
      "text/plain": [
       "100.0"
      ]
     },
     "execution_count": 5,
     "metadata": {},
     "output_type": "execute_result"
    }
   ],
   "source": [
    "1000 / x"
   ]
  },
  {
   "cell_type": "code",
   "execution_count": 7,
   "id": "59cd265a",
   "metadata": {},
   "outputs": [
    {
     "data": {
      "text/plain": [
       "100"
      ]
     },
     "execution_count": 7,
     "metadata": {},
     "output_type": "execute_result"
    }
   ],
   "source": [
    "x + x + x + x + x + x + x + x + x + x "
   ]
  },
  {
   "cell_type": "code",
   "execution_count": 8,
   "id": "3f7e33ef",
   "metadata": {},
   "outputs": [],
   "source": [
    "b = 50"
   ]
  },
  {
   "cell_type": "code",
   "execution_count": 9,
   "id": "dc945c4d",
   "metadata": {},
   "outputs": [
    {
     "data": {
      "text/plain": [
       "50"
      ]
     },
     "execution_count": 9,
     "metadata": {},
     "output_type": "execute_result"
    }
   ],
   "source": [
    "b"
   ]
  },
  {
   "cell_type": "code",
   "execution_count": 10,
   "id": "b1b40508",
   "metadata": {},
   "outputs": [
    {
     "data": {
      "text/plain": [
       "100"
      ]
     },
     "execution_count": 10,
     "metadata": {},
     "output_type": "execute_result"
    }
   ],
   "source": [
    "b + b"
   ]
  },
  {
   "cell_type": "code",
   "execution_count": 11,
   "id": "07b6d713",
   "metadata": {},
   "outputs": [
    {
     "data": {
      "text/plain": [
       "100"
      ]
     },
     "execution_count": 11,
     "metadata": {},
     "output_type": "execute_result"
    }
   ],
   "source": [
    "b + b + b - b"
   ]
  },
  {
   "cell_type": "code",
   "execution_count": 12,
   "id": "6250c59c",
   "metadata": {},
   "outputs": [],
   "source": [
    "y = 4.75"
   ]
  },
  {
   "cell_type": "code",
   "execution_count": 13,
   "id": "3ced15d0",
   "metadata": {},
   "outputs": [
    {
     "data": {
      "text/plain": [
       "float"
      ]
     },
     "execution_count": 13,
     "metadata": {},
     "output_type": "execute_result"
    }
   ],
   "source": [
    "type (y)"
   ]
  },
  {
   "cell_type": "code",
   "execution_count": 14,
   "id": "fe8644ee",
   "metadata": {},
   "outputs": [],
   "source": [
    "t = 20.50"
   ]
  },
  {
   "cell_type": "code",
   "execution_count": 15,
   "id": "40a0fde2",
   "metadata": {},
   "outputs": [
    {
     "data": {
      "text/plain": [
       "float"
      ]
     },
     "execution_count": 15,
     "metadata": {},
     "output_type": "execute_result"
    }
   ],
   "source": [
    "type (t)"
   ]
  },
  {
   "cell_type": "code",
   "execution_count": 16,
   "id": "68a3c4dd",
   "metadata": {},
   "outputs": [
    {
     "data": {
      "text/plain": [
       "4.315789473684211"
      ]
     },
     "execution_count": 16,
     "metadata": {},
     "output_type": "execute_result"
    }
   ],
   "source": [
    "t / y"
   ]
  },
  {
   "cell_type": "code",
   "execution_count": 17,
   "id": "ef207b8d",
   "metadata": {},
   "outputs": [],
   "source": [
    "z = 'un'"
   ]
  },
  {
   "cell_type": "code",
   "execution_count": 18,
   "id": "938c0ab4",
   "metadata": {},
   "outputs": [
    {
     "data": {
      "text/plain": [
       "str"
      ]
     },
     "execution_count": 18,
     "metadata": {},
     "output_type": "execute_result"
    }
   ],
   "source": [
    "type (z)"
   ]
  },
  {
   "cell_type": "code",
   "execution_count": 38,
   "id": "96e48563",
   "metadata": {},
   "outputs": [],
   "source": [
    "k = 'locked'"
   ]
  },
  {
   "cell_type": "code",
   "execution_count": 39,
   "id": "35659250",
   "metadata": {},
   "outputs": [
    {
     "data": {
      "text/plain": [
       "'unlocked'"
      ]
     },
     "execution_count": 39,
     "metadata": {},
     "output_type": "execute_result"
    }
   ],
   "source": [
    "z + k"
   ]
  },
  {
   "cell_type": "code",
   "execution_count": 34,
   "id": "f4cff69e",
   "metadata": {},
   "outputs": [],
   "source": [
    "c = ' like '"
   ]
  },
  {
   "cell_type": "code",
   "execution_count": 35,
   "id": "b76b9faf",
   "metadata": {},
   "outputs": [],
   "source": [
    "d = ' coffee '"
   ]
  },
  {
   "cell_type": "code",
   "execution_count": 36,
   "id": "5a1b2d1d",
   "metadata": {},
   "outputs": [],
   "source": [
    "j = ' I '"
   ]
  },
  {
   "cell_type": "code",
   "execution_count": 37,
   "id": "c939533b",
   "metadata": {},
   "outputs": [
    {
     "data": {
      "text/plain": [
       "' I  like  coffee '"
      ]
     },
     "execution_count": 37,
     "metadata": {},
     "output_type": "execute_result"
    }
   ],
   "source": [
    "j + c + d "
   ]
  },
  {
   "cell_type": "code",
   "execution_count": 48,
   "id": "6649106f",
   "metadata": {},
   "outputs": [],
   "source": [
    "e = 'car'"
   ]
  },
  {
   "cell_type": "code",
   "execution_count": 49,
   "id": "dcbddeee",
   "metadata": {},
   "outputs": [],
   "source": [
    "f = z + k"
   ]
  },
  {
   "cell_type": "code",
   "execution_count": 50,
   "id": "a5291597",
   "metadata": {},
   "outputs": [],
   "source": [
    "g = ' the '"
   ]
  },
  {
   "cell_type": "code",
   "execution_count": 51,
   "id": "97bf498b",
   "metadata": {},
   "outputs": [
    {
     "data": {
      "text/plain": [
       "' I unlocked the car'"
      ]
     },
     "execution_count": 51,
     "metadata": {},
     "output_type": "execute_result"
    }
   ],
   "source": [
    "j + f + g + e"
   ]
  },
  {
   "cell_type": "code",
   "execution_count": null,
   "id": "7d074087",
   "metadata": {},
   "outputs": [],
   "source": []
  }
 ],
 "metadata": {
  "kernelspec": {
   "display_name": "Python 3 (ipykernel)",
   "language": "python",
   "name": "python3"
  },
  "language_info": {
   "codemirror_mode": {
    "name": "ipython",
    "version": 3
   },
   "file_extension": ".py",
   "mimetype": "text/x-python",
   "name": "python",
   "nbconvert_exporter": "python",
   "pygments_lexer": "ipython3",
   "version": "3.10.9"
  }
 },
 "nbformat": 4,
 "nbformat_minor": 5
}
